{
 "cells": [
  {
   "cell_type": "code",
   "execution_count": 1,
   "id": "65bb7dd3-0cc5-4681-bf88-8a4070af2eab",
   "metadata": {},
   "outputs": [],
   "source": [
    "import sys\n",
    "sys.path.append('src')\n",
    "\n",
    "from mindl.nn import NeuralNetwork\n",
    "from mindl.function.activation import ReLU\n",
    "from mindl.function.loss import MSE\n",
    "from random import seed\n",
    "import numpy as np"
   ]
  },
  {
   "cell_type": "markdown",
   "id": "10eca030-4d38-496e-89b3-3a84b8110a99",
   "metadata": {},
   "source": [
    "## XOR"
   ]
  },
  {
   "cell_type": "code",
   "execution_count": 11,
   "id": "a9481670-34d1-4ba3-912e-f2f5dfca570c",
   "metadata": {},
   "outputs": [
    {
     "name": "stdout",
     "output_type": "stream",
     "text": [
      "Ground-truth: [0 1 1 0], Predicted: [0, 0, 0, 0]\n",
      "Loss: 0.30152791034210036\n",
      "Loss: 0.0001516169264996786\n",
      "Loss: 7.862865947747743e-17\n",
      "Loss: 4.4115543899128463e-29\n",
      "Loss: 4.942706609275402e-30\n",
      "Loss: 4.942706609275402e-30\n",
      "Loss: 4.942706609275402e-30\n",
      "Loss: 4.942706609275402e-30\n",
      "Loss: 4.942706609275402e-30\n",
      "Loss: 4.942706609275402e-30\n",
      "Ground-truth: [0 1 1 0], Predicted: [0, 1, 1, 0]\n"
     ]
    }
   ],
   "source": [
    "seed(1)\n",
    "\n",
    "nn = NeuralNetwork(\n",
    "    [2, 2, 1],\n",
    "    learning_rate=0.01,\n",
    "    activation=ReLU(),\n",
    "    loss=MSE(),\n",
    ")\n",
    "\n",
    "\n",
    "X = np.array([[0, 0], [1, 0], [0, 1], [1, 1]])\n",
    "y = np.array([[0], [1], [1], [0]])\n",
    "\n",
    "print(\n",
    "    f\"Ground-truth: {y.squeeze(1)}, Predicted: {[round(a[0]) for a in nn.forward(X)]}\"\n",
    ")\n",
    "nn.fit(X, y, 10000)\n",
    "\n",
    "print(\n",
    "    f\"Ground-truth: {y.squeeze(1)}, Predicted: {[round(a[0]) for a in nn.forward(X)]}\"\n",
    ")\n"
   ]
  },
  {
   "cell_type": "markdown",
   "id": "30278b69-c8c5-44b3-ba29-a7889b30670b",
   "metadata": {},
   "source": [
    "## Not"
   ]
  },
  {
   "cell_type": "code",
   "execution_count": 6,
   "id": "1d62a693-5cf4-445b-a871-e17b0fb93c72",
   "metadata": {},
   "outputs": [
    {
     "name": "stdout",
     "output_type": "stream",
     "text": [
      "Ground-truth: [0 1], Predicted: [1, 1]\n",
      "Loss: 0.6811987473514175\n",
      "Loss: 0.5\n",
      "Loss: 0.034915042805924064\n",
      "Loss: 0.02853868841517651\n",
      "Loss: 0.006376354390747553\n",
      "Ground-truth: [0 1], Predicted: [0, 1]\n"
     ]
    }
   ],
   "source": [
    "nn = NeuralNetwork(\n",
    "    [1, 1],\n",
    "    learning_rate=0.5,\n",
    "    activation=ReLU(),\n",
    "    loss=MSE(),\n",
    ")\n",
    "\n",
    "\n",
    "X = np.array([[1], [0]])\n",
    "y = np.array([[0], [1]])\n",
    "\n",
    "print(\n",
    "    f\"Ground-truth: {y.squeeze(1)}, Predicted: {[round(a[0]) for a in nn.forward(X)]}\"\n",
    ")\n",
    "nn.fit(X, y, 5)\n",
    "\n",
    "print(\n",
    "    f\"Ground-truth: {y.squeeze(1)}, Predicted: {[round(a[0]) for a in nn.forward(X)]}\"\n",
    ")"
   ]
  }
 ],
 "metadata": {
  "kernelspec": {
   "display_name": "Python 3 (ipykernel)",
   "language": "python",
   "name": "python3"
  },
  "language_info": {
   "codemirror_mode": {
    "name": "ipython",
    "version": 3
   },
   "file_extension": ".py",
   "mimetype": "text/x-python",
   "name": "python",
   "nbconvert_exporter": "python",
   "pygments_lexer": "ipython3",
   "version": "3.11.7"
  }
 },
 "nbformat": 4,
 "nbformat_minor": 5
}
