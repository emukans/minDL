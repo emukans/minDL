{
 "cells": [
  {
   "cell_type": "code",
   "execution_count": 2,
   "id": "65bb7dd3-0cc5-4681-bf88-8a4070af2eab",
   "metadata": {},
   "outputs": [],
   "source": [
    "from mindl.nn import NeuralNetwork\n",
    "from plaindl.nn import NeuralNetwork as PlainNeuralNetwork\n",
    "from mindl.function.activation import ReLU\n",
    "from mindl.function.loss import MSE\n",
    "from random import seed\n",
    "import numpy as np"
   ]
  },
  {
   "cell_type": "markdown",
   "id": "dbc8af81-8905-422e-b5b2-0eeedf66e004",
   "metadata": {},
   "source": [
    "You might need to change the seed value if your training is failing"
   ]
  },
  {
   "cell_type": "code",
   "execution_count": 3,
   "id": "46b0b0aa-7a3f-4acd-887a-711b5c14b16a",
   "metadata": {},
   "outputs": [],
   "source": [
    "def set_seed(seed_value):\n",
    "    seed(seed_value)\n",
    "    np.random.seed(seed_value)"
   ]
  },
  {
   "cell_type": "markdown",
   "id": "cd1b9bb3-06c7-4d7e-894b-4f794284f318",
   "metadata": {},
   "source": [
    "# Run examples"
   ]
  },
  {
   "cell_type": "markdown",
   "id": "00a5a13a-a8dc-4fbf-bd13-949abcb5e38b",
   "metadata": {},
   "source": [
    "## Pure python\n",
    "\n",
    "This runs a training for a pure-python implementation of the neural network"
   ]
  },
  {
   "cell_type": "code",
   "execution_count": 4,
   "id": "32cb8fab-1a4d-49ae-b8f5-6c0426e5d4e3",
   "metadata": {},
   "outputs": [
    {
     "name": "stdout",
     "output_type": "stream",
     "text": [
      "Loss: 2.0397588873698527\n",
      "Loss: 1.0476998570275098\n",
      "Loss: 1.0423029783619255\n",
      "Loss: 1.0384829859437077\n",
      "Loss: 0.7155204597585332\n",
      "Loss: 0.4885709993631291\n",
      "Loss: 0.4593242967496283\n",
      "Loss: 0.4579223222527616\n",
      "Loss: 0.4583789098522927\n",
      "Loss: 0.45843194720044295\n",
      "Ground-truth: 0, Predicted: 0\n",
      "Ground-truth: 1, Predicted: 1\n",
      "Ground-truth: 1, Predicted: 1\n",
      "Ground-truth: 0, Predicted: 0\n"
     ]
    }
   ],
   "source": [
    "set_seed(3)\n",
    "\n",
    "\n",
    "nn = PlainNeuralNetwork(\n",
    "    shape=[2, 2, 1],\n",
    "    learning_rate=0.01,\n",
    ")\n",
    "\n",
    "X = [(0, 0), (1, 0), (0, 1), (1, 1)]\n",
    "y = [0, 1, 1, 0]\n",
    "\n",
    "nn.fit(X, y, 10000)\n",
    "\n",
    "for x_, y_ in zip(X, y):\n",
    "    print(f\"Ground-truth: {y_}, Predicted: {round(nn.forward(x_))}\")\n"
   ]
  },
  {
   "cell_type": "markdown",
   "id": "f581d91c-d923-4d1b-a870-2340753b8111",
   "metadata": {},
   "source": [
    "## Vectorized version\n",
    "\n",
    "The first implementation is limited to a single output neuron due to simplicity. The vectorized version avoids this limitation."
   ]
  },
  {
   "cell_type": "code",
   "execution_count": 5,
   "id": "94288d27-7528-4c98-89d1-b4b27e79824e",
   "metadata": {},
   "outputs": [],
   "source": [
    "def print_output_and_target_comparison(nn, X, y):\n",
    "    pred = [np.rint(p).astype('int') for p in nn.forward(X)]\n",
    "\n",
    "    print()\n",
    "    for y_, p in zip(y, pred):\n",
    "        print(f\"Ground-truth: {y_}, Predicted: {p}\")\n",
    "        "
   ]
  },
  {
   "cell_type": "markdown",
   "id": "30278b69-c8c5-44b3-ba29-a7889b30670b",
   "metadata": {},
   "source": [
    "### Not\n",
    "\n",
    "Input-output schema for **NOT** function\n",
    "\n",
    "| Input | Output |\n",
    "|:--:|:--:|\n",
    "| 0 | 1 |\n",
    "| 1 | 0 |\n"
   ]
  },
  {
   "cell_type": "code",
   "execution_count": 6,
   "id": "1d62a693-5cf4-445b-a871-e17b0fb93c72",
   "metadata": {},
   "outputs": [
    {
     "name": "stdout",
     "output_type": "stream",
     "text": [
      "Before:\n",
      "\n",
      "Ground-truth: [0], Predicted: [1]\n",
      "Ground-truth: [1], Predicted: [0]\n",
      "Loss: 0.5376708258539273\n",
      "Loss: 0.20650075154145525\n",
      "Loss: 0.08183142877043839\n",
      "Loss: 0.03899353476985992\n",
      "Loss: 0.02955708034975054\n",
      "After:\n",
      "\n",
      "Ground-truth: [0], Predicted: [0]\n",
      "Ground-truth: [1], Predicted: [1]\n"
     ]
    }
   ],
   "source": [
    "set_seed(3)\n",
    "\n",
    "\n",
    "nn = NeuralNetwork(\n",
    "    [1, 1],\n",
    "    learning_rate=0.5,\n",
    "    activation=ReLU(),\n",
    "    loss=MSE(),\n",
    "    log_frequency=1\n",
    ")\n",
    "\n",
    "\n",
    "X = np.array([[1], [0]])\n",
    "y = np.array([[0], [1]])\n",
    "\n",
    "print('Before:')\n",
    "print_output_and_target_comparison(nn, X, y)\n",
    "\n",
    "nn.fit(X, y, 5)\n",
    "\n",
    "print('After:')\n",
    "print_output_and_target_comparison(nn, X, y)\n",
    "\n",
    "# Persist the model\n",
    "nn.save('model/not.json')"
   ]
  },
  {
   "cell_type": "markdown",
   "id": "10eca030-4d38-496e-89b3-3a84b8110a99",
   "metadata": {},
   "source": [
    "### XOR\n",
    "\n",
    "Input-output schema for **XOR** function\n",
    "| x_1 | x_2 | y |\n",
    "|:--:|:--:|:--:|\n",
    "| 0 | 0 | 0 |\n",
    "| 1 | 0 | 1 |\n",
    "| 0 | 1 | 1 |\n",
    "| 1 | 1 | 0 |"
   ]
  },
  {
   "cell_type": "code",
   "execution_count": 11,
   "id": "a9481670-34d1-4ba3-912e-f2f5dfca570c",
   "metadata": {},
   "outputs": [
    {
     "name": "stdout",
     "output_type": "stream",
     "text": [
      "Before:\n",
      "\n",
      "Ground-truth: [0], Predicted: [0]\n",
      "Ground-truth: [1], Predicted: [0]\n",
      "Ground-truth: [1], Predicted: [0]\n",
      "Ground-truth: [0], Predicted: [0]\n",
      "Loss: 0.5\n",
      "Loss: 0.2774112925737381\n",
      "Loss: 0.2511962482650961\n",
      "Loss: 0.2369227095570097\n",
      "Loss: 0.2196759893003178\n",
      "Loss: 0.1933395586807867\n",
      "Loss: 0.1694597606510644\n",
      "Loss: 0.14251795554416133\n",
      "Loss: 0.1059804515919065\n",
      "Loss: 0.06428108388223393\n",
      "Loss: 0.03143507693796159\n",
      "Loss: 0.013425234337532642\n",
      "Loss: 0.005526315263661171\n",
      "Loss: 0.0021751642670268093\n",
      "Loss: 0.0008348394863289829\n",
      "Loss: 0.000323154820430328\n",
      "After:\n",
      "\n",
      "Ground-truth: [0], Predicted: [0]\n",
      "Ground-truth: [1], Predicted: [1]\n",
      "Ground-truth: [1], Predicted: [1]\n",
      "Ground-truth: [0], Predicted: [0]\n"
     ]
    }
   ],
   "source": [
    "set_seed(3)\n",
    "\n",
    "# Initialisation\n",
    "nn = NeuralNetwork(\n",
    "    [2, 2, 1],\n",
    "    learning_rate=0.01,\n",
    "    activation=ReLU(),\n",
    "    loss=MSE(),\n",
    "    log_frequency=50\n",
    ")\n",
    "\n",
    "# Define input-output structure\n",
    "X = np.array([[0, 0], [1, 0], [0, 1], [1, 1]])\n",
    "y = np.array([[0], [1], [1], [0]])\n",
    "\n",
    "print('Before:')\n",
    "print_output_and_target_comparison(nn, X, y)\n",
    "\n",
    "# Training the model\n",
    "nn.fit(X, y, 800)\n",
    "\n",
    "print('After:')\n",
    "print_output_and_target_comparison(nn, X, y)\n",
    "\n",
    "# Persist the model\n",
    "nn.save('model/xor.json')"
   ]
  },
  {
   "cell_type": "markdown",
   "id": "8dabc72d7421479",
   "metadata": {
    "collapsed": false,
    "jupyter": {
     "outputs_hidden": false
    }
   },
   "source": [
    "### Custom function\n",
    "\n",
    "This function do not have a name and input-output just randomly selected.\n",
    "Input-output schema for this custom function. The idea is the following: y_1 is 1 if all inputs are equal, y_2 is 1 if x_2 is 1.\n",
    "\n",
    "| x_1 | x_2| x_3 | y_1 | y_2 |\n",
    "|:--:|:--:|:--:|:--:|:--:|\n",
    "| 1 | 1 | 1 | 1 | 1 |\n",
    "| 0 | 1 | 1 | 0 | 1 |\n",
    "| 1 | 0 | 1 | 0 | 0 |\n",
    "| 1 | 1 | 0 | 0 | 1 |\n",
    "| 0 | 0 | 1 | 0 | 0 |\n",
    "| 0 | 1 | 0 | 0 | 1 |\n",
    "| 1 | 0 | 0 | 0 | 0 |\n",
    "| 0 | 0 | 0 | 1 | 1 |"
   ]
  },
  {
   "cell_type": "code",
   "execution_count": 10,
   "id": "569211dd5e82a8d0",
   "metadata": {
    "collapsed": false,
    "jupyter": {
     "outputs_hidden": false
    }
   },
   "outputs": [
    {
     "name": "stdout",
     "output_type": "stream",
     "text": [
      "Loss: 0.4375\n",
      "Loss: 0.09343207268353831\n",
      "Loss: 0.050210167547362475\n",
      "Loss: 0.021914907747328613\n",
      "Loss: 0.0064121653788022995\n",
      "Loss: 0.001179927497897902\n",
      "Loss: 0.00016609615129915584\n",
      "Loss: 2.2079647595816466e-05\n",
      "Loss: 2.8897854403939952e-06\n",
      "Loss: 3.9093123470340316e-07\n",
      "\n",
      "Ground-truth: [1 1], Predicted: [1 1]\n",
      "Ground-truth: [0 1], Predicted: [0 1]\n",
      "Ground-truth: [0 0], Predicted: [0 0]\n",
      "Ground-truth: [0 1], Predicted: [0 1]\n",
      "Ground-truth: [0 0], Predicted: [0 0]\n",
      "Ground-truth: [0 1], Predicted: [0 1]\n",
      "Ground-truth: [0 0], Predicted: [0 0]\n",
      "Ground-truth: [1 1], Predicted: [1 1]\n"
     ]
    }
   ],
   "source": [
    "set_seed(3)\n",
    "\n",
    "X = np.array([\n",
    "    [1, 1, 1],\n",
    "    [0, 1, 1],\n",
    "    [1, 0, 1],\n",
    "    [1, 1, 0],\n",
    "    [0, 0, 1],\n",
    "    [0, 1, 0],\n",
    "    [1, 0, 0],\n",
    "    [0, 0, 0],\n",
    "])\n",
    "\n",
    "y = np.array([\n",
    "    [1, 1],\n",
    "    [0, 1],\n",
    "    [0, 0],\n",
    "    [0, 1],\n",
    "    [0, 0],\n",
    "    [0, 1],\n",
    "    [0, 0],\n",
    "    [1, 1],\n",
    "])\n",
    "\n",
    "\n",
    "nn = NeuralNetwork(shape=[X.shape[1], 5, 5, y.shape[1]], learning_rate=0.01, activation=ReLU(), loss=MSE(), log_frequency=100)\n",
    "\n",
    "nn.fit(X, y, 1000)\n",
    "\n",
    "print_output_and_target_comparison(nn, X, y)\n",
    "nn.save('model/xor.json')"
   ]
  },
  {
   "cell_type": "markdown",
   "id": "8a70a644-c64c-4f45-b7fc-69ec8c9de596",
   "metadata": {},
   "source": [
    "## Training animation (optional)\n",
    "**!NB** This step requires additional setup. You will need to setup [manim](https://www.manim.community) on your machine.\n",
    "The package also requires additional dependencies, like `Cairo`, `Pango` and `FFmpeg`.\n",
    "More info on setup in [documentation](https://docs.manim.community/en/stable/installation.html)\n",
    "\n",
    "For creating animation use the following command:"
   ]
  },
  {
   "cell_type": "code",
   "execution_count": 9,
   "id": "5528aeb1-6934-48ad-9da3-3cb6fdfcf834",
   "metadata": {},
   "outputs": [
    {
     "name": "stdout",
     "output_type": "stream",
     "text": [
      "Manim Community \u001b[32mv0.\u001b[0m\u001b[32m18.0\u001b[0m\n",
      "\n",
      "\u001b[2;36m[02/11/24 20:09:26]\u001b[0m\u001b[2;36m \u001b[0m\u001b[32mINFO    \u001b[0m \u001b[1;33mWriting\u001b[0m $pred_1$ to         \u001b]8;id=645398;file:///Users/eduard/Projects/blog/minDL/venv/lib/python3.11/site-packages/manim/utils/tex_file_writing.py\u001b\\\u001b[2mtex_file_writing.py\u001b[0m\u001b]8;;\u001b\\\u001b[2m:\u001b[0m\u001b]8;id=547075;file:///Users/eduard/Projects/blog/minDL/venv/lib/python3.11/site-packages/manim/utils/tex_file_writing.py#107\u001b\\\u001b[2m107\u001b[0m\u001b]8;;\u001b\\\n",
      "\u001b[2;36m                    \u001b[0m         media/Tex/327d8229fe5e7613. \u001b[2m                       \u001b[0m\n",
      "\u001b[2;36m                    \u001b[0m         tex                         \u001b[2m                       \u001b[0m\n",
      "\u001b[2;36m[02/11/24 20:09:27]\u001b[0m\u001b[2;36m \u001b[0m\u001b[32mINFO    \u001b[0m \u001b[1;33mWriting\u001b[0m $y_1$ to            \u001b]8;id=259678;file:///Users/eduard/Projects/blog/minDL/venv/lib/python3.11/site-packages/manim/utils/tex_file_writing.py\u001b\\\u001b[2mtex_file_writing.py\u001b[0m\u001b]8;;\u001b\\\u001b[2m:\u001b[0m\u001b]8;id=821544;file:///Users/eduard/Projects/blog/minDL/venv/lib/python3.11/site-packages/manim/utils/tex_file_writing.py#107\u001b\\\u001b[2m107\u001b[0m\u001b]8;;\u001b\\\n",
      "\u001b[2;36m                    \u001b[0m         media/Tex/d949a393d64c05de. \u001b[2m                       \u001b[0m\n",
      "\u001b[2;36m                    \u001b[0m         tex                         \u001b[2m                       \u001b[0m\n",
      "\u001b[2;36m                   \u001b[0m\u001b[2;36m \u001b[0m\u001b[32mINFO    \u001b[0m Animation \u001b[32m0\u001b[0m : Using cached     \u001b]8;id=617362;file:///Users/eduard/Projects/blog/minDL/venv/lib/python3.11/site-packages/manim/renderer/cairo_renderer.py\u001b\\\u001b[2mcairo_renderer.py\u001b[0m\u001b]8;;\u001b\\\u001b[2m:\u001b[0m\u001b]8;id=983521;file:///Users/eduard/Projects/blog/minDL/venv/lib/python3.11/site-packages/manim/renderer/cairo_renderer.py#78\u001b\\\u001b[2m78\u001b[0m\u001b]8;;\u001b\\\n",
      "\u001b[2;36m                    \u001b[0m         data \u001b[1m(\u001b[0mhash :                   \u001b[2m                    \u001b[0m\n",
      "\u001b[2;36m                    \u001b[0m         3529212410_2889407057_22313245 \u001b[2m                    \u001b[0m\n",
      "\u001b[2;36m                    \u001b[0m         7\u001b[1m)\u001b[0m                             \u001b[2m                    \u001b[0m\n",
      "Animation 1: FadeIn(VGroup of 4 submobjects):  12%| | 7/60 [00:21<02:45,  3.12s/^C\n",
      "Traceback (most recent call last):                                              \n",
      "  File \"/Users/eduard/Projects/blog/minDL/animation.py\", line 226, in <module>\n",
      "    scene.render()\n",
      "  File \"/Users/eduard/Projects/blog/minDL/venv/lib/python3.11/site-packages/manim/scene/scene.py\", line 223, in render\n",
      "    self.construct()\n",
      "  File \"/Users/eduard/Projects/blog/minDL/animation.py\", line 184, in construct\n",
      "    self.play(FadeIn(nn))\n",
      "  File \"/Users/eduard/Projects/blog/minDL/venv/lib/python3.11/site-packages/manim/scene/scene.py\", line 1080, in play\n",
      "    self.renderer.play(self, *args, **kwargs)\n",
      "  File \"/Users/eduard/Projects/blog/minDL/venv/lib/python3.11/site-packages/manim/renderer/cairo_renderer.py\", line 104, in play\n",
      "    scene.play_internal()\n",
      "  File \"/Users/eduard/Projects/blog/minDL/venv/lib/python3.11/site-packages/manim/scene/scene.py\", line 1243, in play_internal\n",
      "    self.update_to_time(t)\n",
      "  File \"/Users/eduard/Projects/blog/minDL/venv/lib/python3.11/site-packages/manim/scene/scene.py\", line 1482, in update_to_time\n",
      "    animation.update_mobjects(dt)\n",
      "  File \"/Users/eduard/Projects/blog/minDL/venv/lib/python3.11/site-packages/manim/animation/animation.py\", line 284, in update_mobjects\n",
      "    mob.update(dt)\n",
      "  File \"/Users/eduard/Projects/blog/minDL/venv/lib/python3.11/site-packages/manim/mobject/mobject.py\", line 856, in update\n",
      "    submob.update(dt, recursive)\n",
      "  File \"/Users/eduard/Projects/blog/minDL/venv/lib/python3.11/site-packages/manim/mobject/mobject.py\", line 856, in update\n",
      "    submob.update(dt, recursive)\n",
      "  File \"/Users/eduard/Projects/blog/minDL/venv/lib/python3.11/site-packages/manim/mobject/mobject.py\", line 856, in update\n",
      "    submob.update(dt, recursive)\n",
      "  [Previous line repeated 2 more times]\n",
      "  File \"/Users/eduard/Projects/blog/minDL/venv/lib/python3.11/site-packages/manim/mobject/mobject.py\", line 853, in update\n",
      "    updater(self)\n",
      "  File \"/Users/eduard/Projects/blog/minDL/animation.py\", line 51, in <lambda>\n",
      "    label_unit.add_updater(lambda m: m.set_value(label.get_value()).next_to(line.get_center(), direction=label_placement, buff=0.5))\n",
      "                                     ^^^^^^^^^^^^^^^^^^^^^^^^^^^^^^\n",
      "  File \"/Users/eduard/Projects/blog/minDL/venv/lib/python3.11/site-packages/manim/mobject/text/numbers.py\", line 294, in set_value\n",
      "    sm1.match_style(sm2)\n",
      "  File \"/Users/eduard/Projects/blog/minDL/venv/lib/python3.11/site-packages/manim/mobject/types/vectorized_mobject.py\", line 422, in match_style\n",
      "    sm1.match_style(sm2)\n",
      "  File \"/Users/eduard/Projects/blog/minDL/venv/lib/python3.11/site-packages/manim/mobject/types/vectorized_mobject.py\", line 411, in match_style\n",
      "    self.set_style(**vmobject.get_style(), family=False)\n",
      "  File \"/Users/eduard/Projects/blog/minDL/venv/lib/python3.11/site-packages/manim/mobject/types/vectorized_mobject.py\", line 364, in set_style\n",
      "    self.set_stroke(\n",
      "  File \"/Users/eduard/Projects/blog/minDL/venv/lib/python3.11/site-packages/manim/mobject/types/vectorized_mobject.py\", line 331, in set_stroke\n",
      "    self.update_rgbas_array(array_name, color, opacity)\n",
      "  File \"/Users/eduard/Projects/blog/minDL/venv/lib/python3.11/site-packages/manim/mobject/types/vectorized_mobject.py\", line 242, in update_rgbas_array\n",
      "    rgbas = self.generate_rgbas_array(color, opacity)\n",
      "            ^^^^^^^^^^^^^^^^^^^^^^^^^^^^^^^^^^^^^^^^^\n",
      "  File \"/Users/eduard/Projects/blog/minDL/venv/lib/python3.11/site-packages/manim/mobject/types/vectorized_mobject.py\", line 225, in generate_rgbas_array\n",
      "    [c.to_rgba_with_alpha(o) for c, o in zip(*make_even(colors, opacities))],\n",
      "                                              ^^^^^^^^^^^^^^^^^^^^^^^^^^^^\n",
      "  File \"/Users/eduard/Projects/blog/minDL/venv/lib/python3.11/site-packages/manim/utils/iterables.py\", line 189, in make_even\n",
      "    [list_1[(n * len_list_1) // length] for n in range(length)],\n",
      "    ^^^^^^^^^^^^^^^^^^^^^^^^^^^^^^^^^^^^^^^^^^^^^^^^^^^^^^^^^^^\n",
      "  File \"/Users/eduard/Projects/blog/minDL/venv/lib/python3.11/site-packages/manim/utils/iterables.py\", line 189, in <listcomp>\n",
      "    [list_1[(n * len_list_1) // length] for n in range(length)],\n",
      "\n",
      "KeyboardInterrupt\n"
     ]
    }
   ],
   "source": [
    "# Instead of xor.json you could pass any other trained model checkpoint\n",
    "# !NB, if you're trying your own architecture, then you\n",
    "!python animation.py -m ./model/xor.json"
   ]
  }
 ],
 "metadata": {
  "kernelspec": {
   "display_name": "Python 3 (ipykernel)",
   "language": "python",
   "name": "python3"
  },
  "language_info": {
   "codemirror_mode": {
    "name": "ipython",
    "version": 3
   },
   "file_extension": ".py",
   "mimetype": "text/x-python",
   "name": "python",
   "nbconvert_exporter": "python",
   "pygments_lexer": "ipython3",
   "version": "3.11.5"
  }
 },
 "nbformat": 4,
 "nbformat_minor": 5
}
