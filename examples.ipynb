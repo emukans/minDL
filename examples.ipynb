{
 "cells": [
  {
   "cell_type": "code",
   "execution_count": 8,
   "id": "65bb7dd3-0cc5-4681-bf88-8a4070af2eab",
   "metadata": {},
   "outputs": [],
   "source": [
    "from mindl.nn import NeuralNetwork\n",
    "from plaindl.nn import NeuralNetwork as PlainNeuralNetwork\n",
    "from mindl.function.activation import ReLU\n",
    "from mindl.function.loss import MSE\n",
    "from random import seed\n",
    "import numpy as np"
   ]
  },
  {
   "cell_type": "markdown",
   "id": "dbc8af81-8905-422e-b5b2-0eeedf66e004",
   "metadata": {},
   "source": [
    "You might need to change the seed value if your training is failing"
   ]
  },
  {
   "cell_type": "code",
   "execution_count": null,
   "id": "46b0b0aa-7a3f-4acd-887a-711b5c14b16a",
   "metadata": {},
   "outputs": [],
   "source": [
    "seed(3)"
   ]
  },
  {
   "cell_type": "markdown",
   "id": "cd1b9bb3-06c7-4d7e-894b-4f794284f318",
   "metadata": {},
   "source": [
    "# Run examples"
   ]
  },
  {
   "cell_type": "markdown",
   "id": "00a5a13a-a8dc-4fbf-bd13-949abcb5e38b",
   "metadata": {},
   "source": [
    "## Pure python\n",
    "\n",
    "This runs a training for a pure-python implementation of the neural network"
   ]
  },
  {
   "cell_type": "code",
   "execution_count": 10,
   "id": "32cb8fab-1a4d-49ae-b8f5-6c0426e5d4e3",
   "metadata": {},
   "outputs": [
    {
     "name": "stdout",
     "output_type": "stream",
     "text": [
      "Loss: 15.652150197253208\n",
      "Loss: 1.078685069739633\n",
      "Loss: 1.066947053987945\n",
      "Loss: 0.9561425440498154\n",
      "Loss: 0.1444220945675183\n",
      "Loss: 0.1417544555491933\n",
      "Loss: 0.14182172513942493\n",
      "Loss: 0.14191701693081887\n",
      "Loss: 0.14183307868548595\n",
      "Loss: 0.14183080849933538\n",
      "Ground-truth: 0, Predicted: 0\n",
      "Ground-truth: 1, Predicted: 1\n",
      "Ground-truth: 1, Predicted: 1\n",
      "Ground-truth: 0, Predicted: 0\n"
     ]
    }
   ],
   "source": [
    "nn = PlainNeuralNetwork(\n",
    "    shape=[2, 2, 1],\n",
    "    learning_rate=0.01,\n",
    ")\n",
    "\n",
    "X = [(0, 0), (1, 0), (0, 1), (1, 1)]\n",
    "y = [0, 1, 1, 0]\n",
    "\n",
    "nn.fit(X, y, 10000)\n",
    "\n",
    "for x_, y_ in zip(X, y):\n",
    "    print(f\"Ground-truth: {y_}, Predicted: {round(nn.forward(x_))}\")\n"
   ]
  },
  {
   "cell_type": "markdown",
   "id": "f581d91c-d923-4d1b-a870-2340753b8111",
   "metadata": {},
   "source": [
    "## Vectorized version\n",
    "\n",
    "The first implementation is limited to a single output neuron due to simplicity. The vectorized version avoids this limitation."
   ]
  },
  {
   "cell_type": "code",
   "execution_count": 30,
   "id": "94288d27-7528-4c98-89d1-b4b27e79824e",
   "metadata": {},
   "outputs": [],
   "source": [
    "def print_output_and_target_comparison(nn, X, y):\n",
    "    pred = [np.rint(p).astype('int') for p in nn.forward(X)]\n",
    "\n",
    "    print()\n",
    "    for y_, p in zip(y, pred):\n",
    "        print(f\"Ground-truth: {y_}, Predicted: {p}\")\n",
    "        "
   ]
  },
  {
   "cell_type": "markdown",
   "id": "30278b69-c8c5-44b3-ba29-a7889b30670b",
   "metadata": {},
   "source": [
    "### Not\n",
    "\n",
    "Input-output schema for **NOT** function\n",
    "\n",
    "| Input | Output |\n",
    "|:--:|:--:|\n",
    "| 0 | 1 |\n",
    "| 1 | 0 |\n"
   ]
  },
  {
   "cell_type": "code",
   "execution_count": 39,
   "id": "1d62a693-5cf4-445b-a871-e17b0fb93c72",
   "metadata": {},
   "outputs": [
    {
     "name": "stdout",
     "output_type": "stream",
     "text": [
      "Before:\n",
      "Ground-truth: [0], Predicted: [0]\n",
      "Ground-truth: [1], Predicted: [1]\n",
      "Loss: 0.04129931595881554\n",
      "Loss: 0.017464895041550143\n",
      "Loss: 0.010663151273900294\n",
      "Loss: 0.00680174376764985\n",
      "Loss: 0.00680174376764985\n",
      "After:\n",
      "Ground-truth: [0], Predicted: [0]\n",
      "Ground-truth: [1], Predicted: [1]\n"
     ]
    }
   ],
   "source": [
    "nn = NeuralNetwork(\n",
    "    [1, 1],\n",
    "    learning_rate=0.5,\n",
    "    activation=ReLU(),\n",
    "    loss=MSE(),\n",
    "    log_frequency=1\n",
    ")\n",
    "\n",
    "\n",
    "X = np.array([[1], [0]])\n",
    "y = np.array([[0], [1]])\n",
    "\n",
    "print('Before:')\n",
    "print_output_and_target_comparison(nn, X, y)\n",
    "\n",
    "nn.fit(X, y, 5)\n",
    "\n",
    "print('After:')\n",
    "print_output_and_target_comparison(nn, X, y)"
   ]
  },
  {
   "cell_type": "markdown",
   "id": "10eca030-4d38-496e-89b3-3a84b8110a99",
   "metadata": {},
   "source": [
    "### XOR\n",
    "\n",
    "Input-output schema for **XOR** function\n",
    "| x_1 | x_2 | y |\n",
    "|:--:|:--:|:--:|\n",
    "| 0 | 0 | 0 |\n",
    "| 1 | 0 | 1 |\n",
    "| 0 | 1 | 1 |\n",
    "| 1 | 1 | 0 |"
   ]
  },
  {
   "cell_type": "code",
   "execution_count": 40,
   "id": "a9481670-34d1-4ba3-912e-f2f5dfca570c",
   "metadata": {},
   "outputs": [
    {
     "name": "stdout",
     "output_type": "stream",
     "text": [
      "Before:\n",
      "Ground-truth: [0], Predicted: [0]\n",
      "Ground-truth: [1], Predicted: [0]\n",
      "Ground-truth: [1], Predicted: [0]\n",
      "Ground-truth: [0], Predicted: [0]\n",
      "Loss: 0.5\n",
      "Loss: 0.0003708170499636691\n",
      "Loss: 8.112225888099387e-09\n",
      "Loss: 1.6591446132010057e-13\n",
      "Loss: 3.299536526603981e-18\n",
      "Loss: 6.665308816667701e-23\n",
      "Loss: 1.3203079360492801e-27\n",
      "Loss: 1.4924746989406592e-29\n",
      "Loss: 1.4924746988172514e-29\n",
      "Loss: 1.4924746988172514e-29\n",
      "After:\n",
      "Ground-truth: [0], Predicted: [0]\n",
      "Ground-truth: [1], Predicted: [1]\n",
      "Ground-truth: [1], Predicted: [1]\n",
      "Ground-truth: [0], Predicted: [0]\n"
     ]
    }
   ],
   "source": [
    "nn = NeuralNetwork(\n",
    "    [2, 2, 1],\n",
    "    learning_rate=0.01,\n",
    "    activation=ReLU(),\n",
    "    loss=MSE(),\n",
    ")\n",
    "\n",
    "\n",
    "X = np.array([[0, 0], [1, 0], [0, 1], [1, 1]])\n",
    "y = np.array([[0], [1], [1], [0]])\n",
    "\n",
    "print('Before:')\n",
    "print_output_and_target_comparison(nn, X, y)\n",
    "\n",
    "nn.fit(X, y, 10000)\n",
    "\n",
    "print('After:')\n",
    "print_output_and_target_comparison(nn, X, y)\n"
   ]
  },
  {
   "cell_type": "markdown",
   "id": "8dabc72d7421479",
   "metadata": {
    "collapsed": false,
    "jupyter": {
     "outputs_hidden": false
    }
   },
   "source": [
    "### Custom function\n",
    "\n",
    "This function do not have a name and input-output just randomly selected.\n",
    "Input-output schema for this custom function. The idea is the following: y_1 is 1 if all inputs are either 1 \n",
    "\n",
    "| x_1 | x_2| x_3 | y_1 | y_2 |\n",
    "|:--:|:--:|:--:|:--:|:--:|\n",
    "| 1 | 1 | 1 | 1 | 1 |\n",
    "| 0 | 1 | 1 | 0 | 1 |\n",
    "| 1 | 0 | 1 | 0 | 0 |\n",
    "| 1 | 1 | 0 | 0 | 1 |\n",
    "| 0 | 0 | 1 | 0 | 0 |\n",
    "| 0 | 1 | 0 | 0 | 1 |\n",
    "| 1 | 0 | 0 | 0 | 0 |\n",
    "| 0 | 0 | 0 | 1 | 1 |"
   ]
  },
  {
   "cell_type": "code",
   "execution_count": 42,
   "id": "569211dd5e82a8d0",
   "metadata": {
    "collapsed": false,
    "jupyter": {
     "outputs_hidden": false
    }
   },
   "outputs": [
    {
     "name": "stdout",
     "output_type": "stream",
     "text": [
      "Loss: 0.348703206860929\n",
      "Loss: 5.741755155552708e-06\n",
      "Loss: 8.701577108334634e-08\n",
      "Loss: 4.8625416727313564e-09\n",
      "Loss: 2.704286682343639e-10\n",
      "Loss: 1.509766749167606e-11\n",
      "Loss: 8.469715379157481e-13\n",
      "Loss: 4.7508901574518606e-14\n",
      "Loss: 2.6243744880932353e-15\n",
      "Loss: 1.4685413925082085e-16\n",
      "Ground-truth: [1 1], Predicted: [1 1]\n",
      "Ground-truth: [0 1], Predicted: [0 1]\n",
      "Ground-truth: [0 0], Predicted: [0 0]\n",
      "Ground-truth: [0 1], Predicted: [0 1]\n",
      "Ground-truth: [0 0], Predicted: [0 0]\n",
      "Ground-truth: [0 1], Predicted: [0 1]\n",
      "Ground-truth: [0 0], Predicted: [0 0]\n",
      "Ground-truth: [1 1], Predicted: [1 1]\n"
     ]
    }
   ],
   "source": [
    "X = np.array([\n",
    "    [1, 1, 1],\n",
    "    [0, 1, 1],\n",
    "    [1, 0, 1],\n",
    "    [1, 1, 0],\n",
    "    [0, 0, 1],\n",
    "    [0, 1, 0],\n",
    "    [1, 0, 0],\n",
    "    [0, 0, 0],\n",
    "])\n",
    "\n",
    "y = np.array([\n",
    "    [1, 1],\n",
    "    [0, 1],\n",
    "    [0, 0],\n",
    "    [0, 1],\n",
    "    [0, 0],\n",
    "    [0, 1],\n",
    "    [0, 0],\n",
    "    [1, 1],\n",
    "])\n",
    "\n",
    "\n",
    "nn = NeuralNetwork(shape=[X.shape[1], 16, 16, y.shape[1]], learning_rate=0.01, activation=ReLU(), loss=MSE(), log_frequency=100)\n",
    "\n",
    "nn.fit(X, y, 1000)\n",
    "\n",
    "print_output_and_target_comparison(nn, X, y)\n"
   ]
  }
 ],
 "metadata": {
  "kernelspec": {
   "display_name": "Python 3 (ipykernel)",
   "language": "python",
   "name": "python3"
  },
  "language_info": {
   "codemirror_mode": {
    "name": "ipython",
    "version": 3
   },
   "file_extension": ".py",
   "mimetype": "text/x-python",
   "name": "python",
   "nbconvert_exporter": "python",
   "pygments_lexer": "ipython3",
   "version": "3.11.5"
  }
 },
 "nbformat": 4,
 "nbformat_minor": 5
}
