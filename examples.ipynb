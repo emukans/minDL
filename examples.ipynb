{
 "cells": [
  {
   "cell_type": "code",
   "execution_count": 1,
   "id": "65bb7dd3-0cc5-4681-bf88-8a4070af2eab",
   "metadata": {},
   "outputs": [],
   "source": [
    "from mindl.nn import NeuralNetwork\n",
    "from plaindl.nn import NeuralNetwork as PlainNeuralNetwork\n",
    "from mindl.function.activation import ReLU\n",
    "from mindl.function.loss import MSE\n",
    "from random import seed\n",
    "import numpy as np"
   ]
  },
  {
   "cell_type": "markdown",
   "id": "dbc8af81-8905-422e-b5b2-0eeedf66e004",
   "metadata": {},
   "source": [
    "You might need to change the seed value if your training is failing"
   ]
  },
  {
   "cell_type": "code",
   "execution_count": 2,
   "id": "46b0b0aa-7a3f-4acd-887a-711b5c14b16a",
   "metadata": {},
   "outputs": [],
   "source": [
    "def set_seed(seed_value):\n",
    "    seed(seed_value)\n",
    "    np.random.seed(seed_value)"
   ]
  },
  {
   "cell_type": "markdown",
   "id": "cd1b9bb3-06c7-4d7e-894b-4f794284f318",
   "metadata": {},
   "source": [
    "# Run examples"
   ]
  },
  {
   "cell_type": "markdown",
   "id": "00a5a13a-a8dc-4fbf-bd13-949abcb5e38b",
   "metadata": {},
   "source": [
    "## Pure python\n",
    "\n",
    "This runs a training for a pure-python implementation of the neural network"
   ]
  },
  {
   "cell_type": "code",
   "execution_count": 3,
   "id": "32cb8fab-1a4d-49ae-b8f5-6c0426e5d4e3",
   "metadata": {},
   "outputs": [
    {
     "name": "stdout",
     "output_type": "stream",
     "text": [
      "Loss: 2.0397588873698527\n",
      "Loss: 1.0476998570275098\n",
      "Loss: 1.0423029783619255\n",
      "Loss: 1.0384829859437077\n",
      "Loss: 0.7155204597585332\n",
      "Loss: 0.4885709993631291\n",
      "Loss: 0.4593242967496283\n",
      "Loss: 0.4579223222527616\n",
      "Loss: 0.4583789098522927\n",
      "Loss: 0.45843194720044295\n",
      "Ground-truth: 0, Predicted: 0\n",
      "Ground-truth: 1, Predicted: 1\n",
      "Ground-truth: 1, Predicted: 1\n",
      "Ground-truth: 0, Predicted: 0\n"
     ]
    }
   ],
   "source": [
    "set_seed(3)\n",
    "\n",
    "\n",
    "nn = PlainNeuralNetwork(\n",
    "    shape=[2, 2, 1],\n",
    "    learning_rate=0.01,\n",
    ")\n",
    "\n",
    "X = [(0, 0), (1, 0), (0, 1), (1, 1)]\n",
    "y = [0, 1, 1, 0]\n",
    "\n",
    "nn.fit(X, y, 10000)\n",
    "\n",
    "for x_, y_ in zip(X, y):\n",
    "    print(f\"Ground-truth: {y_}, Predicted: {round(nn.forward(x_))}\")\n"
   ]
  },
  {
   "cell_type": "markdown",
   "id": "f581d91c-d923-4d1b-a870-2340753b8111",
   "metadata": {},
   "source": [
    "## Vectorized version\n",
    "\n",
    "The first implementation is limited to a single output neuron due to simplicity. The vectorized version avoids this limitation."
   ]
  },
  {
   "cell_type": "code",
   "execution_count": 3,
   "id": "94288d27-7528-4c98-89d1-b4b27e79824e",
   "metadata": {},
   "outputs": [],
   "source": [
    "def print_output_and_target_comparison(nn, X, y):\n",
    "    pred = [np.rint(p).astype('int') for p in nn.forward(X)]\n",
    "\n",
    "    print()\n",
    "    for y_, p in zip(y, pred):\n",
    "        print(f\"Ground-truth: {y_}, Predicted: {p}\")\n",
    "        "
   ]
  },
  {
   "cell_type": "markdown",
   "id": "30278b69-c8c5-44b3-ba29-a7889b30670b",
   "metadata": {},
   "source": [
    "### Not\n",
    "\n",
    "Input-output schema for **NOT** function\n",
    "\n",
    "| Input | Output |\n",
    "|:--:|:--:|\n",
    "| 0 | 1 |\n",
    "| 1 | 0 |\n"
   ]
  },
  {
   "cell_type": "code",
   "execution_count": 4,
   "id": "1d62a693-5cf4-445b-a871-e17b0fb93c72",
   "metadata": {},
   "outputs": [
    {
     "name": "stdout",
     "output_type": "stream",
     "text": [
      "Before:\n",
      "\n",
      "Ground-truth: [0], Predicted: [1]\n",
      "Ground-truth: [1], Predicted: [0]\n"
     ]
    },
    {
     "ename": "ValueError",
     "evalue": "non-broadcastable output operand with shape (1,) doesn't match the broadcast shape (1,1)",
     "output_type": "error",
     "traceback": [
      "\u001B[0;31m---------------------------------------------------------------------------\u001B[0m",
      "\u001B[0;31mValueError\u001B[0m                                Traceback (most recent call last)",
      "Cell \u001B[0;32mIn[4], line 19\u001B[0m\n\u001B[1;32m     16\u001B[0m \u001B[38;5;28mprint\u001B[39m(\u001B[38;5;124m'\u001B[39m\u001B[38;5;124mBefore:\u001B[39m\u001B[38;5;124m'\u001B[39m)\n\u001B[1;32m     17\u001B[0m print_output_and_target_comparison(nn, X, y)\n\u001B[0;32m---> 19\u001B[0m \u001B[43mnn\u001B[49m\u001B[38;5;241;43m.\u001B[39;49m\u001B[43mfit\u001B[49m\u001B[43m(\u001B[49m\u001B[43mX\u001B[49m\u001B[43m,\u001B[49m\u001B[43m \u001B[49m\u001B[43my\u001B[49m\u001B[43m,\u001B[49m\u001B[43m \u001B[49m\u001B[38;5;241;43m5\u001B[39;49m\u001B[43m)\u001B[49m\n\u001B[1;32m     21\u001B[0m \u001B[38;5;28mprint\u001B[39m(\u001B[38;5;124m'\u001B[39m\u001B[38;5;124mAfter:\u001B[39m\u001B[38;5;124m'\u001B[39m)\n\u001B[1;32m     22\u001B[0m print_output_and_target_comparison(nn, X, y)\n",
      "File \u001B[0;32m~/Projects/blog/minDL/mindl/nn.py:110\u001B[0m, in \u001B[0;36mNeuralNetwork.fit\u001B[0;34m(self, X, y, iteration_count)\u001B[0m\n\u001B[1;32m    106\u001B[0m pred \u001B[38;5;241m=\u001B[39m \u001B[38;5;28mself\u001B[39m\u001B[38;5;241m.\u001B[39mforward(X)\n\u001B[1;32m    108\u001B[0m loss \u001B[38;5;241m=\u001B[39m np\u001B[38;5;241m.\u001B[39mmean(\u001B[38;5;28mself\u001B[39m\u001B[38;5;241m.\u001B[39mloss(y, pred))\n\u001B[0;32m--> 110\u001B[0m \u001B[38;5;28;43mself\u001B[39;49m\u001B[38;5;241;43m.\u001B[39;49m\u001B[43mbackprop\u001B[49m\u001B[43m(\u001B[49m\u001B[43my\u001B[49m\u001B[43m)\u001B[49m\n\u001B[1;32m    112\u001B[0m \u001B[38;5;28;01mif\u001B[39;00m i \u001B[38;5;241m%\u001B[39m \u001B[38;5;28mself\u001B[39m\u001B[38;5;241m.\u001B[39mlog_frequency \u001B[38;5;241m==\u001B[39m \u001B[38;5;241m0\u001B[39m:\n\u001B[1;32m    113\u001B[0m     \u001B[38;5;28mprint\u001B[39m(\u001B[38;5;124mf\u001B[39m\u001B[38;5;124m\"\u001B[39m\u001B[38;5;124mLoss: \u001B[39m\u001B[38;5;132;01m{\u001B[39;00mloss\u001B[38;5;132;01m}\u001B[39;00m\u001B[38;5;124m\"\u001B[39m)\n",
      "File \u001B[0;32m~/Projects/blog/minDL/mindl/nn.py:90\u001B[0m, in \u001B[0;36mNeuralNetwork.backprop\u001B[0;34m(self, y)\u001B[0m\n\u001B[1;32m     86\u001B[0m \u001B[38;5;28mself\u001B[39m\u001B[38;5;241m.\u001B[39mweight_list[\u001B[38;5;241m-\u001B[39mi] \u001B[38;5;241m-\u001B[39m\u001B[38;5;241m=\u001B[39m (\n\u001B[1;32m     87\u001B[0m     np\u001B[38;5;241m.\u001B[39mdot(\u001B[38;5;28mself\u001B[39m\u001B[38;5;241m.\u001B[39mactivation(value\u001B[38;5;241m.\u001B[39mT), error) \u001B[38;5;241m*\u001B[39m \u001B[38;5;28mself\u001B[39m\u001B[38;5;241m.\u001B[39mlearning_rate\n\u001B[1;32m     88\u001B[0m )\n\u001B[1;32m     89\u001B[0m \u001B[38;5;66;03m# Bias update\u001B[39;00m\n\u001B[0;32m---> 90\u001B[0m \u001B[38;5;28;43mself\u001B[39;49m\u001B[38;5;241;43m.\u001B[39;49m\u001B[43mbias_list\u001B[49m\u001B[43m[\u001B[49m\u001B[38;5;241;43m-\u001B[39;49m\u001B[43mi\u001B[49m\u001B[43m]\u001B[49m\u001B[43m \u001B[49m\u001B[38;5;241;43m-\u001B[39;49m\u001B[38;5;241;43m=\u001B[39;49m\u001B[43m \u001B[49m\u001B[43m(\u001B[49m\n\u001B[1;32m     91\u001B[0m \u001B[43m    \u001B[49m\u001B[43mnp\u001B[49m\u001B[38;5;241;43m.\u001B[39;49m\u001B[43msum\u001B[49m\u001B[43m(\u001B[49m\u001B[43merror\u001B[49m\u001B[43m,\u001B[49m\u001B[43m \u001B[49m\u001B[43maxis\u001B[49m\u001B[38;5;241;43m=\u001B[39;49m\u001B[38;5;241;43m0\u001B[39;49m\u001B[43m,\u001B[49m\u001B[43m \u001B[49m\u001B[43mkeepdims\u001B[49m\u001B[38;5;241;43m=\u001B[39;49m\u001B[38;5;28;43;01mTrue\u001B[39;49;00m\u001B[43m)\u001B[49m\u001B[43m \u001B[49m\u001B[38;5;241;43m*\u001B[39;49m\u001B[43m \u001B[49m\u001B[38;5;28;43mself\u001B[39;49m\u001B[38;5;241;43m.\u001B[39;49m\u001B[43mlearning_rate\u001B[49m\n\u001B[1;32m     92\u001B[0m \u001B[43m\u001B[49m\u001B[43m)\u001B[49m\n",
      "\u001B[0;31mValueError\u001B[0m: non-broadcastable output operand with shape (1,) doesn't match the broadcast shape (1,1)"
     ]
    }
   ],
   "source": [
    "set_seed(3)\n",
    "\n",
    "\n",
    "nn = NeuralNetwork(\n",
    "    [1, 1],\n",
    "    learning_rate=0.5,\n",
    "    activation=ReLU(),\n",
    "    loss=MSE(),\n",
    "    log_frequency=1\n",
    ")\n",
    "\n",
    "\n",
    "X = np.array([[1], [0]])\n",
    "y = np.array([[0], [1]])\n",
    "\n",
    "print('Before:')\n",
    "print_output_and_target_comparison(nn, X, y)\n",
    "\n",
    "nn.fit(X, y, 5)\n",
    "\n",
    "print('After:')\n",
    "print_output_and_target_comparison(nn, X, y)\n",
    "\n",
    "# Persist the model\n",
    "nn.save('model/not.json')"
   ]
  },
  {
   "cell_type": "markdown",
   "id": "10eca030-4d38-496e-89b3-3a84b8110a99",
   "metadata": {},
   "source": [
    "### XOR\n",
    "\n",
    "Input-output schema for **XOR** function\n",
    "| x_1 | x_2 | y |\n",
    "|:--:|:--:|:--:|\n",
    "| 0 | 0 | 0 |\n",
    "| 1 | 0 | 1 |\n",
    "| 0 | 1 | 1 |\n",
    "| 1 | 1 | 0 |"
   ]
  },
  {
   "cell_type": "code",
   "execution_count": 9,
   "id": "a9481670-34d1-4ba3-912e-f2f5dfca570c",
   "metadata": {},
   "outputs": [
    {
     "name": "stdout",
     "output_type": "stream",
     "text": [
      "Before:\n",
      "\n",
      "Ground-truth: [0], Predicted: [0]\n",
      "Ground-truth: [1], Predicted: [0]\n",
      "Ground-truth: [1], Predicted: [0]\n",
      "Ground-truth: [0], Predicted: [0]\n",
      "Loss: 0.5\n",
      "Loss: 2.0864442556834503e-06\n",
      "Loss: 3.1639107771442896e-15\n",
      "Loss: 4.943121950704977e-24\n",
      "Loss: 6.723806621844718e-30\n",
      "Loss: 6.723806621844718e-30\n",
      "Loss: 6.723806621844718e-30\n",
      "Loss: 6.723806621844718e-30\n",
      "Loss: 6.723806621844718e-30\n",
      "Loss: 6.723806621844718e-30\n",
      "After:\n",
      "\n",
      "Ground-truth: [0], Predicted: [0]\n",
      "Ground-truth: [1], Predicted: [1]\n",
      "Ground-truth: [1], Predicted: [1]\n",
      "Ground-truth: [0], Predicted: [0]\n"
     ]
    }
   ],
   "source": [
    "set_seed(3)\n",
    "\n",
    "# Initialisation\n",
    "nn = NeuralNetwork(\n",
    "    [2, 2, 1],\n",
    "    learning_rate=0.01,\n",
    "    activation=ReLU(),\n",
    "    loss=MSE(),\n",
    ")\n",
    "\n",
    "# Define input-output structure\n",
    "X = np.array([[0, 0], [1, 0], [0, 1], [1, 1]])\n",
    "y = np.array([[0], [1], [1], [0]])\n",
    "\n",
    "print('Before:')\n",
    "print_output_and_target_comparison(nn, X, y)\n",
    "\n",
    "# Training the model\n",
    "nn.fit(X, y, 10000)\n",
    "\n",
    "print('After:')\n",
    "print_output_and_target_comparison(nn, X, y)\n",
    "\n",
    "# Persist the model\n",
    "nn.save('model/xor.json')"
   ]
  },
  {
   "cell_type": "markdown",
   "id": "8dabc72d7421479",
   "metadata": {
    "collapsed": false
   },
   "source": [
    "### Custom function\n",
    "\n",
    "This function do not have a name and input-output just randomly selected.\n",
    "Input-output schema for this custom function. The idea is the following: y_1 is 1 if all inputs are equal, y_2 is 1 if x_2 is 1.\n",
    "\n",
    "| x_1 | x_2| x_3 | y_1 | y_2 |\n",
    "|:--:|:--:|:--:|:--:|:--:|\n",
    "| 1 | 1 | 1 | 1 | 1 |\n",
    "| 0 | 1 | 1 | 0 | 1 |\n",
    "| 1 | 0 | 1 | 0 | 0 |\n",
    "| 1 | 1 | 0 | 0 | 1 |\n",
    "| 0 | 0 | 1 | 0 | 0 |\n",
    "| 0 | 1 | 0 | 0 | 1 |\n",
    "| 1 | 0 | 0 | 0 | 0 |\n",
    "| 0 | 0 | 0 | 1 | 1 |"
   ]
  },
  {
   "cell_type": "code",
   "execution_count": 8,
   "id": "569211dd5e82a8d0",
   "metadata": {
    "collapsed": false
   },
   "outputs": [
    {
     "name": "stdout",
     "output_type": "stream",
     "text": [
      "Loss: 0.39010922505548185\n",
      "Loss: 0.003645591061758474\n",
      "Loss: 5.0118665330490905e-06\n",
      "Loss: 8.38711876836502e-09\n",
      "Loss: 1.3875547852507529e-11\n",
      "Loss: 2.3204187885243936e-14\n",
      "Loss: 3.771341812643988e-17\n",
      "Loss: 6.242029280684858e-20\n",
      "Loss: 1.0358426236510845e-22\n",
      "Loss: 1.7065809142700742e-25\n",
      "\n",
      "Ground-truth: [1 1], Predicted: [1 1]\n",
      "Ground-truth: [0 1], Predicted: [0 1]\n",
      "Ground-truth: [0 0], Predicted: [0 0]\n",
      "Ground-truth: [0 1], Predicted: [0 1]\n",
      "Ground-truth: [0 0], Predicted: [0 0]\n",
      "Ground-truth: [0 1], Predicted: [0 1]\n",
      "Ground-truth: [0 0], Predicted: [0 0]\n",
      "Ground-truth: [1 1], Predicted: [1 1]\n"
     ]
    }
   ],
   "source": [
    "set_seed(3)\n",
    "\n",
    "X = np.array([\n",
    "    [1, 1, 1],\n",
    "    [0, 1, 1],\n",
    "    [1, 0, 1],\n",
    "    [1, 1, 0],\n",
    "    [0, 0, 1],\n",
    "    [0, 1, 0],\n",
    "    [1, 0, 0],\n",
    "    [0, 0, 0],\n",
    "])\n",
    "\n",
    "y = np.array([\n",
    "    [1, 1],\n",
    "    [0, 1],\n",
    "    [0, 0],\n",
    "    [0, 1],\n",
    "    [0, 0],\n",
    "    [0, 1],\n",
    "    [0, 0],\n",
    "    [1, 1],\n",
    "])\n",
    "\n",
    "\n",
    "nn = NeuralNetwork(shape=[X.shape[1], 16, 16, y.shape[1]], learning_rate=0.01, activation=ReLU(), loss=MSE(), log_frequency=100)\n",
    "\n",
    "nn.fit(X, y, 1000)\n",
    "\n",
    "print_output_and_target_comparison(nn, X, y)\n"
   ]
  },
  {
   "cell_type": "markdown",
   "id": "8a70a644-c64c-4f45-b7fc-69ec8c9de596",
   "metadata": {},
   "source": [
    "## Training animation (optional)\n",
    "**!NB** This step requires additional setup. You will need to setup [manim](https://www.manim.community) on your machine.\n",
    "The package also requires additional dependencies, like `Cairo`, `Pango` and `FFmpeg`.\n",
    "More info on setup in [documentation](https://docs.manim.community/en/stable/installation.html)\n",
    "\n",
    "For creating animation use the following command:"
   ]
  },
  {
   "cell_type": "code",
   "execution_count": null,
   "id": "5528aeb1-6934-48ad-9da3-3cb6fdfcf834",
   "metadata": {},
   "outputs": [],
   "source": [
    "# Instead of xor.json you could pass any other trained model checkpoint\n",
    "!python animation.py -m ./model/xor.json"
   ]
  }
 ],
 "metadata": {
  "kernelspec": {
   "display_name": "Python 3 (ipykernel)",
   "language": "python",
   "name": "python3"
  },
  "language_info": {
   "codemirror_mode": {
    "name": "ipython",
    "version": 3
   },
   "file_extension": ".py",
   "mimetype": "text/x-python",
   "name": "python",
   "nbconvert_exporter": "python",
   "pygments_lexer": "ipython3",
   "version": "3.11.7"
  }
 },
 "nbformat": 4,
 "nbformat_minor": 5
}
